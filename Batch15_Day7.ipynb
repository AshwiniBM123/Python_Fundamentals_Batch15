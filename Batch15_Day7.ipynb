{
 "cells": [
  {
   "cell_type": "code",
   "execution_count": null,
   "metadata": {},
   "outputs": [],
   "source": [
    "Introduction to looping string"
   ]
  },
  {
   "cell_type": "code",
   "execution_count": null,
   "metadata": {},
   "outputs": [],
   "source": [
    "Understanding for loops "
   ]
  },
  {
   "cell_type": "code",
   "execution_count": 1,
   "metadata": {},
   "outputs": [
    {
     "name": "stdout",
     "output_type": "stream",
     "text": [
      "['vasundara', 'vivek', 'rashmi', 'jyotsana', 'rahul', 'bikesh']\n"
     ]
    }
   ],
   "source": [
    "students =['vasundara','vivek','rashmi','jyotsana','rahul','bikesh']\n",
    "print(students)"
   ]
  },
  {
   "cell_type": "code",
   "execution_count": null,
   "metadata": {},
   "outputs": [],
   "source": [
    "req: to split out the students individually from a list--- for loop chain will start "
   ]
  },
  {
   "cell_type": "code",
   "execution_count": 2,
   "metadata": {},
   "outputs": [
    {
     "name": "stdout",
     "output_type": "stream",
     "text": [
      "vasundara\n",
      "vivek\n",
      "rashmi\n",
      "jyotsana\n",
      "rahul\n",
      "bikesh\n"
     ]
    }
   ],
   "source": [
    "for student in students:\n",
    "    print(student)"
   ]
  },
  {
   "cell_type": "code",
   "execution_count": null,
   "metadata": {},
   "outputs": [],
   "source": [
    "General syntax of a for loop : \n",
    "    \n",
    "for tempvar in mainvar:\n",
    "    for(tempvar)           #indication clean code"
   ]
  },
  {
   "cell_type": "code",
   "execution_count": 3,
   "metadata": {},
   "outputs": [
    {
     "name": "stdout",
     "output_type": "stream",
     "text": [
      "vasundara\n",
      "vivek\n",
      "rashmi\n",
      "jyotsana\n",
      "rahul\n",
      "bikesh\n"
     ]
    }
   ],
   "source": [
    "for x in students:\n",
    "    print(x)"
   ]
  },
  {
   "cell_type": "code",
   "execution_count": null,
   "metadata": {},
   "outputs": [],
   "source": [
    "sending the appreciation msg to the list"
   ]
  },
  {
   "cell_type": "code",
   "execution_count": 5,
   "metadata": {},
   "outputs": [
    {
     "name": "stdout",
     "output_type": "stream",
     "text": [
      "appreciate your work,keep up the same vasundara\n",
      "appreciate your work,keep up the same vivek\n",
      "appreciate your work,keep up the same rashmi\n",
      "appreciate your work,keep up the same jyotsana\n",
      "appreciate your work,keep up the same rahul\n",
      "appreciate your work,keep up the same bikesh\n"
     ]
    }
   ],
   "source": [
    "for z in students:\n",
    "    print(f\"appreciate your work,keep up the same {z}\")"
   ]
  },
  {
   "cell_type": "code",
   "execution_count": 6,
   "metadata": {},
   "outputs": [
    {
     "name": "stdout",
     "output_type": "stream",
     "text": [
      "appriciate your work,keep up the same ['vasundara', 'vivek', 'rashmi', 'jyotsana', 'rahul', 'bikesh']\n",
      "appriciate your work,keep up the same ['vasundara', 'vivek', 'rashmi', 'jyotsana', 'rahul', 'bikesh']\n",
      "appriciate your work,keep up the same ['vasundara', 'vivek', 'rashmi', 'jyotsana', 'rahul', 'bikesh']\n",
      "appriciate your work,keep up the same ['vasundara', 'vivek', 'rashmi', 'jyotsana', 'rahul', 'bikesh']\n",
      "appriciate your work,keep up the same ['vasundara', 'vivek', 'rashmi', 'jyotsana', 'rahul', 'bikesh']\n",
      "appriciate your work,keep up the same ['vasundara', 'vivek', 'rashmi', 'jyotsana', 'rahul', 'bikesh']\n"
     ]
    }
   ],
   "source": [
    "for z in students: \n",
    "    print(f\"appriciate your work,keep up the same {students}\")"
   ]
  },
  {
   "cell_type": "code",
   "execution_count": 7,
   "metadata": {},
   "outputs": [
    {
     "name": "stdout",
     "output_type": "stream",
     "text": [
      "appreciate your work,keep up the same['vasundara', 'vivek', 'rashmi', 'jyotsana', 'rahul', 'bikesh']\n",
      "looking for all your pracise files today as well ['vasundara', 'vivek', 'rashmi', 'jyotsana', 'rahul', 'bikesh']\n",
      "Thank you all for sharing your practise files vasundara\n",
      "appreciate your work,keep up the same['vasundara', 'vivek', 'rashmi', 'jyotsana', 'rahul', 'bikesh']\n",
      "looking for all your pracise files today as well ['vasundara', 'vivek', 'rashmi', 'jyotsana', 'rahul', 'bikesh']\n",
      "Thank you all for sharing your practise files vivek\n",
      "appreciate your work,keep up the same['vasundara', 'vivek', 'rashmi', 'jyotsana', 'rahul', 'bikesh']\n",
      "looking for all your pracise files today as well ['vasundara', 'vivek', 'rashmi', 'jyotsana', 'rahul', 'bikesh']\n",
      "Thank you all for sharing your practise files rashmi\n",
      "appreciate your work,keep up the same['vasundara', 'vivek', 'rashmi', 'jyotsana', 'rahul', 'bikesh']\n",
      "looking for all your pracise files today as well ['vasundara', 'vivek', 'rashmi', 'jyotsana', 'rahul', 'bikesh']\n",
      "Thank you all for sharing your practise files jyotsana\n",
      "appreciate your work,keep up the same['vasundara', 'vivek', 'rashmi', 'jyotsana', 'rahul', 'bikesh']\n",
      "looking for all your pracise files today as well ['vasundara', 'vivek', 'rashmi', 'jyotsana', 'rahul', 'bikesh']\n",
      "Thank you all for sharing your practise files rahul\n",
      "appreciate your work,keep up the same['vasundara', 'vivek', 'rashmi', 'jyotsana', 'rahul', 'bikesh']\n",
      "looking for all your pracise files today as well ['vasundara', 'vivek', 'rashmi', 'jyotsana', 'rahul', 'bikesh']\n",
      "Thank you all for sharing your practise files bikesh\n"
     ]
    }
   ],
   "source": [
    "for student in students:\n",
    "    print(f\"appreciate your work,keep up the same{students}\")\n",
    "    print(f\"looking for all your pracise files today as well {students}\")\n",
    "    print(f\"Thank you all for sharing your practise files {student}\")"
   ]
  },
  {
   "cell_type": "code",
   "execution_count": 10,
   "metadata": {},
   "outputs": [
    {
     "name": "stdout",
     "output_type": "stream",
     "text": [
      "appreciate your work,keep up the same vasundara\n",
      "looking for all your pracise files today as well vasundara\n",
      "Thank you all for sharing your practise files vasundara\n",
      "appreciate your work,keep up the same vivek\n",
      "looking for all your pracise files today as well vivek\n",
      "Thank you all for sharing your practise files vivek\n",
      "appreciate your work,keep up the same rashmi\n",
      "looking for all your pracise files today as well rashmi\n",
      "Thank you all for sharing your practise files rashmi\n",
      "appreciate your work,keep up the same jyotsana\n",
      "looking for all your pracise files today as well jyotsana\n",
      "Thank you all for sharing your practise files jyotsana\n",
      "appreciate your work,keep up the same rahul\n",
      "looking for all your pracise files today as well rahul\n",
      "Thank you all for sharing your practise files rahul\n",
      "appreciate your work,keep up the same bikesh\n",
      "looking for all your pracise files today as well bikesh\n",
      "Thank you all for sharing your practise files bikesh\n"
     ]
    }
   ],
   "source": [
    "for z in students:\n",
    "    print(f\"appreciate your work,keep up the same {z}\")\n",
    "    print(f\"looking for all your pracise files today as well {z}\")\n",
    "    print(f\"Thank you all for sharing your practise files {z}\")"
   ]
  },
  {
   "cell_type": "code",
   "execution_count": null,
   "metadata": {},
   "outputs": [],
   "source": [
    "req: Print numbers from 1-10"
   ]
  },
  {
   "cell_type": "code",
   "execution_count": 13,
   "metadata": {},
   "outputs": [
    {
     "name": "stdout",
     "output_type": "stream",
     "text": [
      "[1, 2, 3, 4, 5, 6, 7, 8, 9, 10]\n"
     ]
    }
   ],
   "source": [
    "numbers=list(range(1,11))\n",
    "print(numbers)"
   ]
  },
  {
   "cell_type": "code",
   "execution_count": null,
   "metadata": {},
   "outputs": [],
   "source": [
    "Req : Print only even numbers 1-30"
   ]
  },
  {
   "cell_type": "code",
   "execution_count": 14,
   "metadata": {},
   "outputs": [
    {
     "name": "stdout",
     "output_type": "stream",
     "text": [
      "[2, 4, 6, 8, 10, 12, 14, 16, 18, 20, 22, 24, 26, 28]\n"
     ]
    }
   ],
   "source": [
    "even_numbers =list(range(2,30,2))\n",
    "print(even_numbers)"
   ]
  },
  {
   "cell_type": "code",
   "execution_count": null,
   "metadata": {},
   "outputs": [],
   "source": []
  }
 ],
 "metadata": {
  "kernelspec": {
   "display_name": "Python 3",
   "language": "python",
   "name": "python3"
  },
  "language_info": {
   "codemirror_mode": {
    "name": "ipython",
    "version": 3
   },
   "file_extension": ".py",
   "mimetype": "text/x-python",
   "name": "python",
   "nbconvert_exporter": "python",
   "pygments_lexer": "ipython3",
   "version": "3.7.6"
  }
 },
 "nbformat": 4,
 "nbformat_minor": 4
}
